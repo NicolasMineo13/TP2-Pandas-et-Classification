{
 "cells": [
  {
   "cell_type": "markdown",
   "id": "7f5a57b6",
   "metadata": {},
   "source": [
    "# Swiss bank notes\n",
    "\n",
    "## Description\n",
    "\n",
    "\n",
    "Six variables ont été mesurées sur 200 billets de banque de mille francs Suisse, dont 100 étaient des vrais billets et 100 des faux billets. Cette étude a été extraite du livre de Flury and Riedwyl (_B. Flury and H. Riedwyl. Multivariate Statistics. Cambridge University Press, 1988. 1.1_)\n",
    "\n",
    "X1|length|Length of the bank note\n",
    "--------|------|-----\n",
    "X2|height.left|Height of the bank note, measured on the left\n",
    "X3|height.right|Height of the bank note, measured on the right\n",
    "X4|distance.lower|Distance of inner frame to the lower border\n",
    "X5|distance.upper|Distance of inner frame to the upper border\n",
    "X6|diagonal|Length of the diagonal\n",
    "\n",
    "\n",
    "Le fichier texte `swiss-bank-notes.csv` contient en première ligne, le nom des variables. Les 100 premières lignes de données correspondent aux vrais billets, les 100 dernières correspondent aux faux billets."
   ]
  },
  {
   "attachments": {},
   "cell_type": "markdown",
   "id": "52dec6e1",
   "metadata": {},
   "source": [
    "## Travaux préliminaires\n",
    "\n",
    "1. Importer les données\n",
    "2. 1. Quelle est la longueur de la digonale du 101 ème billet ?\n",
    "   2. Extraire la sous table des billets corespondant aux lignes 10,30,60 et 120.\n",
    "   3. Extraire la sous table de la troisième à la sixième colonne.\n",
    "   4. Extraire la sous table des billets correspondants aux lignes 25 à 30 et aux colonnes `Height.left`, `Diagonal` et `type`.\n",
    "3. Tracer la variable `InnerFrameUpper` en fonction de `Diagonal` en utilisant des points de couleurs bleu pour les vrais billets et rouge pour les faux billets. La corrélation est-semble-t-elle importante ?\n",
    "4. Est-il nécessaire de centrer et réduire les données ? Justifier.\n",
    "\n",
    "\n",
    "## Classification\n",
    "\n",
    "Utiliser les documents du cours `kmeans-python.ipynb` et `cah-python.ipynb` pour répondre aux quextions suivantes :\n",
    "1. Appliquer l'algorithme des moyennes mobiles à ce jeu de données. \n",
    "2. En utilisant l'inertie, quel semble être le nombre de classes le plus adéquat ? Est-ce normal ?\n",
    "3. Procéder à une classification ascendante hierarchique puis représenter le dendogramme. Led nombre de classe suggérer par le dendogramme est-il le même qu'avec le k-means.\n",
    "4. Ces deux méthodes de classification semblent-elles efficaces au vue de la nature du jeu de données ? "
   ]
  },
  {
   "cell_type": "code",
   "execution_count": 25,
   "id": "930704c3",
   "metadata": {},
   "outputs": [
    {
     "data": {
      "text/html": [
       "<div>\n",
       "<style scoped>\n",
       "    .dataframe tbody tr th:only-of-type {\n",
       "        vertical-align: middle;\n",
       "    }\n",
       "\n",
       "    .dataframe tbody tr th {\n",
       "        vertical-align: top;\n",
       "    }\n",
       "\n",
       "    .dataframe thead th {\n",
       "        text-align: right;\n",
       "    }\n",
       "</style>\n",
       "<table border=\"1\" class=\"dataframe\">\n",
       "  <thead>\n",
       "    <tr style=\"text-align: right;\">\n",
       "      <th></th>\n",
       "      <th>Length</th>\n",
       "      <th>HeightLeft</th>\n",
       "      <th>HeightRight</th>\n",
       "      <th>InnerFrameLow</th>\n",
       "      <th>InnerFrameUpper</th>\n",
       "      <th>Diagonal</th>\n",
       "      <th>Type</th>\n",
       "    </tr>\n",
       "  </thead>\n",
       "  <tbody>\n",
       "    <tr>\n",
       "      <th>0</th>\n",
       "      <td>214,8</td>\n",
       "      <td>131</td>\n",
       "      <td>131,1</td>\n",
       "      <td>9</td>\n",
       "      <td>9,7</td>\n",
       "      <td>141</td>\n",
       "      <td>1</td>\n",
       "    </tr>\n",
       "    <tr>\n",
       "      <th>1</th>\n",
       "      <td>214,6</td>\n",
       "      <td>129,7</td>\n",
       "      <td>129,7</td>\n",
       "      <td>8,1</td>\n",
       "      <td>9,5</td>\n",
       "      <td>141,7</td>\n",
       "      <td>1</td>\n",
       "    </tr>\n",
       "    <tr>\n",
       "      <th>2</th>\n",
       "      <td>214,8</td>\n",
       "      <td>129,7</td>\n",
       "      <td>129,7</td>\n",
       "      <td>8,7</td>\n",
       "      <td>9,6</td>\n",
       "      <td>142,2</td>\n",
       "      <td>1</td>\n",
       "    </tr>\n",
       "    <tr>\n",
       "      <th>3</th>\n",
       "      <td>214,8</td>\n",
       "      <td>129,7</td>\n",
       "      <td>129,6</td>\n",
       "      <td>7,5</td>\n",
       "      <td>10,4</td>\n",
       "      <td>142</td>\n",
       "      <td>1</td>\n",
       "    </tr>\n",
       "    <tr>\n",
       "      <th>4</th>\n",
       "      <td>215</td>\n",
       "      <td>129,6</td>\n",
       "      <td>129,7</td>\n",
       "      <td>10,4</td>\n",
       "      <td>7,7</td>\n",
       "      <td>141,8</td>\n",
       "      <td>1</td>\n",
       "    </tr>\n",
       "  </tbody>\n",
       "</table>\n",
       "</div>"
      ],
      "text/plain": [
       "  Length HeightLeft HeightRight InnerFrameLow InnerFrameUpper Diagonal  Type\n",
       "0  214,8        131       131,1             9             9,7      141     1\n",
       "1  214,6      129,7       129,7           8,1             9,5    141,7     1\n",
       "2  214,8      129,7       129,7           8,7             9,6    142,2     1\n",
       "3  214,8      129,7       129,6           7,5            10,4      142     1\n",
       "4    215      129,6       129,7          10,4             7,7    141,8     1"
      ]
     },
     "execution_count": 25,
     "metadata": {},
     "output_type": "execute_result"
    }
   ],
   "source": [
    "import pandas as pd\n",
    "\n",
    "# Charger les données à partir du fichier CSV\n",
    "data = pd.read_csv('swiss-bank-notes.csv', sep=';')\n",
    "\n",
    "# Afficher les premières lignes pour vérification\n",
    "data.head()"
   ]
  },
  {
   "cell_type": "markdown",
   "id": "a3927228",
   "metadata": {},
   "source": [
    "## Question 2.1\n",
    "Quelle est la longueur de la digonale du 101 ème billet ?\n"
   ]
  },
  {
   "cell_type": "code",
   "execution_count": 26,
   "id": "4d511b64",
   "metadata": {},
   "outputs": [
    {
     "name": "stdout",
     "output_type": "stream",
     "text": [
      "Longueur de la diagonale du 101ème billet: 139,8\n"
     ]
    }
   ],
   "source": [
    "longueur_diagonale_101 = data.iloc[100]['Diagonal']\n",
    "print(\"Longueur de la diagonale du 101ème billet:\", longueur_diagonale_101)\n"
   ]
  },
  {
   "cell_type": "markdown",
   "id": "157a058b",
   "metadata": {},
   "source": [
    "## Question 2.2\n",
    "Extraire la sous table des billets corespondant aux lignes 10,30,60 et 120."
   ]
  },
  {
   "cell_type": "code",
   "execution_count": 27,
   "id": "84f389cb",
   "metadata": {},
   "outputs": [
    {
     "name": "stdout",
     "output_type": "stream",
     "text": [
      "Sous-table des billets spécifiques:\n",
      "     Length HeightLeft HeightRight InnerFrameLow InnerFrameUpper Diagonal  Type\n",
      "9    215,2      130,4       130,3           9,2              10    140,7     1\n",
      "29   214,8      129,7       129,3           8,3               9      142     1\n",
      "59   215,1        130       129,8           8,2            10,3    141,4     1\n",
      "119  214,4      130,2       129,9          10,1              12    139,2     0\n"
     ]
    }
   ],
   "source": [
    "billets_specifiques = data.iloc[[9, 29, 59, 119]]\n",
    "print(\"Sous-table des billets spécifiques:\\n\", billets_specifiques)\n"
   ]
  },
  {
   "cell_type": "markdown",
   "id": "a9a52d05",
   "metadata": {},
   "source": [
    "## Question 2.3\n",
    "\n",
    "Extraire la sous table de la troisième à la sixième colonne."
   ]
  },
  {
   "cell_type": "code",
   "execution_count": 28,
   "id": "a5431ba9",
   "metadata": {},
   "outputs": [
    {
     "name": "stdout",
     "output_type": "stream",
     "text": [
      "Sous-table des colonnes 3 à 6:\n",
      "     HeightRight InnerFrameLow InnerFrameUpper Diagonal\n",
      "0         131,1             9             9,7      141\n",
      "1         129,7           8,1             9,5    141,7\n",
      "2         129,7           8,7             9,6    142,2\n",
      "3         129,6           7,5            10,4      142\n",
      "4         129,7          10,4             7,7    141,8\n",
      "..          ...           ...             ...      ...\n",
      "195       130,3           9,9            12,1    139,6\n",
      "196       129,9          10,3            11,5    139,7\n",
      "197       130,4          10,6            11,1      140\n",
      "198       130,8          11,2            11,2    139,4\n",
      "199       129,9          10,2            11,5    139,6\n",
      "\n",
      "[200 rows x 4 columns]\n"
     ]
    }
   ],
   "source": [
    "sous_table_colonnes_3_6 = data.iloc[:, 2:6]\n",
    "print(\"Sous-table des colonnes 3 à 6:\\n\", sous_table_colonnes_3_6)\n"
   ]
  },
  {
   "cell_type": "markdown",
   "id": "b932f2fe",
   "metadata": {},
   "source": [
    "## Question 2.4\n",
    "\n",
    "Extraire la sous table des billets correspondants aux lignes 25 à 30 et aux colonnes `Height.left`, `Diagonal` et `type`."
   ]
  },
  {
   "cell_type": "code",
   "execution_count": 29,
   "id": "c251e82b",
   "metadata": {},
   "outputs": [
    {
     "name": "stdout",
     "output_type": "stream",
     "text": [
      "Sous-table des billets 25 à 30 et colonnes spécifiques:\n",
      "    HeightLeft Diagonal  Type\n",
      "24      129,7    141,1     1\n",
      "25      130,4    142,3     1\n",
      "26      130,2    142,4     1\n",
      "27      130,3    141,9     1\n",
      "28        130    141,8     1\n",
      "29      129,7      142     1\n"
     ]
    }
   ],
   "source": [
    "sous_table_25_30_et_colonnes = data.loc[24:29, ['HeightLeft', 'Diagonal', 'Type']]\n",
    "print(\"Sous-table des billets 25 à 30 et colonnes spécifiques:\\n\", sous_table_25_30_et_colonnes)\n"
   ]
  },
  {
   "cell_type": "markdown",
   "id": "c7894792",
   "metadata": {},
   "source": [
    "## Question 3\n",
    "\n",
    "Tracer la variable `InnerFrameUpper` en fonction de `Diagonal` en utilisant des points de couleurs bleu pour les vrais billets et rouge pour les faux billets. La corrélation est-semble-t-elle importante ?"
   ]
  },
  {
   "cell_type": "code",
   "execution_count": 30,
   "id": "c5598d64",
   "metadata": {},
   "outputs": [
    {
     "data": {
      "image/png": "[encoded data removed]",
      "text/plain": [
       "<Figure size 640x480 with 1 Axes>"
      ]
     },
     "metadata": {},
     "output_type": "display_data"
    }
   ],
   "source": [
    "## Question 3\n",
    "\n",
    "# Tracer la variable `InnerFrameUpper` en fonction de `Diagonal` en utilisant des points de couleurs bleu pour les vrais billets et rouge pour les faux billets. La corrélation est-semble-t-elle importante ?\n",
    "\n",
    "import matplotlib.pyplot as plt\n",
    "\n",
    "plt.scatter(data.iloc[0:100, 4], data.iloc[0:100, 5], color='blue')\n",
    "plt.scatter(data.iloc[100:200, 4], data.iloc[100:200, 5], color='red')\n",
    "plt.show()"
   ]
  },
  {
   "cell_type": "markdown",
   "id": "dee6d1d2",
   "metadata": {},
   "source": [
    "## Question 4\n",
    "\n",
    "Est-il nécessaire de centrer et réduire les données ? Justifier."
   ]
  },
  {
   "cell_type": "markdown",
   "id": "388c09c7",
   "metadata": {},
   "source": [
    "Oui, car les variables ont des ordres de grandeur différents.\n"
   ]
  },
  {
   "cell_type": "markdown",
   "id": "7cafae32",
   "metadata": {},
   "source": []
  }
 ],
 "metadata": {
  "kernelspec": {
   "display_name": "Python 3 (ipykernel)",
   "language": "python",
   "name": "python3"
  },
  "language_info": {
   "codemirror_mode": {
    "name": "ipython",
    "version": 3
   },
   "file_extension": ".py",
   "mimetype": "text/x-python",
   "name": "python",
   "nbconvert_exporter": "python",
   "pygments_lexer": "ipython3",
   "version": "3.11.5"
  }
 },
 "nbformat": 4,
 "nbformat_minor": 5
}
